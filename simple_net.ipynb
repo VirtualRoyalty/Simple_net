{
 "cells": [
  {
   "cell_type": "markdown",
   "metadata": {},
   "source": [
    "# The simple net that will recognize images from MNIST dataset"
   ]
  },
  {
   "cell_type": "code",
   "execution_count": 3,
   "metadata": {},
   "outputs": [],
   "source": [
    "import matplotlib.pyplot as plt\n",
    "import numpy as np\n",
    "import sys\n",
    "sys.path.insert(0, '../src/easyesn/')\n",
    "import os\n",
    "loc=os.getcwd() "
   ]
  },
  {
   "cell_type": "code",
   "execution_count": 4,
   "metadata": {},
   "outputs": [],
   "source": [
    "from mnist import MNIST #dataset of handwritten numbers \n",
    "mndata = MNIST(loc)\n",
    "tr_images, tr_labels = mndata.load_training()\n",
    "test_images, test_labels = mndata.load_testing()"
   ]
  },
  {
   "cell_type": "code",
   "execution_count": 5,
   "metadata": {},
   "outputs": [],
   "source": [
    "img_shape = (28, 28)\n",
    "for i in range(len(test_images)):\n",
    "    test_images[i] = np.array(test_images[i]) / 255\n",
    "     \n",
    "for i in range(len(tr_images)):\n",
    "    tr_images[i] = np.array(tr_images[i]) / 255"
   ]
  },
  {
   "cell_type": "code",
   "execution_count": 29,
   "metadata": {},
   "outputs": [],
   "source": [
    "class simple_cls:\n",
    "    w = (2*np.random.rand(10, 784) - 1) / 10\n",
    "    b = (2*np.random.rand(10) - 1) / 10\n",
    "    def relu(self,x): #activation function\n",
    "        return np.maximum(x, 0)\n",
    "\n",
    "    def classify(self,img): #classification function\n",
    "        result = list(range(10))\n",
    "        for i in range(10):\n",
    "            res_vect= self.w[i] * img\n",
    "            res_vect = self.relu(np.sum(res_vect) + self.b[i])\n",
    "            result[i] = res_vect\n",
    "\n",
    "        return np.argmax(result)\n",
    "    def train(self,tr_images,tr_labels): #train func\n",
    "        for n in range(len(tr_images)):\n",
    "            img = tr_images[n]\n",
    "            cls = tr_labels[n]\n",
    "            #forward propagation\n",
    "            res = np.zeros(10, dtype=np.float32)\n",
    "            for i in range(0,10):\n",
    "                r = self.w[i] * img\n",
    "                r = self.relu(np.sum(r) + self.b[i])\n",
    "                res[i] = r\n",
    "\n",
    "            res_cls = np.argmax(res)\n",
    "            res = np.zeros(10, dtype=np.float32)\n",
    "            res[res_cls] = 1.0\n",
    "            #back propagation\n",
    "            true_res = np.zeros(10, dtype=np.float32)\n",
    "            true_res[cls] = 1.0\n",
    "\n",
    "            error = res - true_res\n",
    "\n",
    "            delta = error * ((res >= 0) * np.ones(10))\n",
    "            for i in range(0,10):\n",
    "                self.w[i] -= np.dot(img, delta[i])\n",
    "                self.b[i] -= delta[i]\n",
    "    def calc_err(self,test_images,test_labels): #the percentage of valid answers\n",
    "        valid=0\n",
    "        for i in range(len(test_images)):\n",
    "            img = test_images[i]\n",
    "            predicted = self.classify(img)\n",
    "            true = test_labels[i]\n",
    "            if predicted == true:\n",
    "                valid = valid + 1\n",
    "        return 1-(valid/len(test_images))\n",
    "\n"
   ]
  },
  {
   "cell_type": "code",
   "execution_count": 31,
   "metadata": {},
   "outputs": [],
   "source": [
    "net=simple_cls()\n",
    "net.train(tr_images,tr_labels)"
   ]
  },
  {
   "cell_type": "code",
   "execution_count": 32,
   "metadata": {},
   "outputs": [
    {
     "data": {
      "image/png": "[encoded data removed]",
      "text/plain": [
       "<matplotlib.figure.Figure at 0x82d91d0>"
      ]
     },
     "metadata": {},
     "output_type": "display_data"
    },
    {
     "data": {
      "text/plain": [
       "3"
      ]
     },
     "execution_count": 32,
     "metadata": {},
     "output_type": "execute_result"
    }
   ],
   "source": [
    "i=200\n",
    "l=np.array(test_images[i])\n",
    "l=l.reshape((28,28))\n",
    "plt.imshow(l)\n",
    "plt.show()\n",
    "net.classify(test_images[i])"
   ]
  },
  {
   "cell_type": "code",
   "execution_count": 34,
   "metadata": {},
   "outputs": [
    {
     "name": "stdout",
     "output_type": "stream",
     "text": [
      "percentage of err is  0.1414833333333333\n"
     ]
    }
   ],
   "source": [
    "print(\"percentage of err is \",net.calc_err(tr_images,tr_labels))"
   ]
  }
 ],
 "metadata": {
  "kernelspec": {
   "display_name": "Python 3",
   "language": "python",
   "name": "python3"
  },
  "language_info": {
   "codemirror_mode": {
    "name": "ipython",
    "version": 3
   },
   "file_extension": ".py",
   "mimetype": "text/x-python",
   "name": "python",
   "nbconvert_exporter": "python",
   "pygments_lexer": "ipython3",
   "version": "3.6.4"
  }
 },
 "nbformat": 4,
 "nbformat_minor": 2
}
